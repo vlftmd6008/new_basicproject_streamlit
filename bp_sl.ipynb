{
 "cells": [
  {
   "cell_type": "code",
   "execution_count": null,
   "id": "d95891ea",
   "metadata": {},
   "outputs": [],
   "source": [
    "# Parameters\n",
    "input_file = \"\""
   ]
  },
  {
   "cell_type": "code",
   "execution_count": null,
   "id": "33a04b67",
   "metadata": {},
   "outputs": [],
   "source": [
    "# 3. 위치 데이터 이용_경로 계산\n",
    "## 지하철역 위치 데이터 불러오기\n",
    "import pandas as pd\n",
    "filtered_real_estate = pd.read_csv(input_file)\n",
    "\n",
    "df_sub_addr = pd.read_excel('전체_도시철도역사정보_20250417.xlsx')\n",
    "df_sub_addr = df_sub_addr[df_sub_addr['운영기관명'].str.contains('서울')]\n",
    "df_sub_addr.loc[:, 'CGG_NM'] = df_sub_addr['역사도로명주소'].str.extract(r'([가-힣]+구)')\n",
    "df_sub_addr.loc[:, 'STDG_NM'] = df_sub_addr['역사도로명주소'].str.extract(r'\\(([^,()]+동)')\n",
    "subway = df_sub_addr[['CGG_NM', 'STDG_NM', '역사명', '역위도', '역경도']]\n",
    "subway = subway.drop_duplicates(subset='역사명')\n",
    "\n",
    "filtered_subway = subway[\n",
    "    (subway['CGG_NM'].isin(filtered_real_estate['CGG_NM'])) &\n",
    "    (subway['STDG_NM'].isin(filtered_real_estate['STDG_NM']))\n",
    "]\n",
    "\n",
    "\n",
    "filtered_subway.to_csv(\"filtered_subway.csv\", index=False)\n"
   ]
  }
 ],
 "metadata": {
  "kernelspec": {
   "display_name": "3.12.3",
   "language": "python",
   "name": "python3"
  },
  "language_info": {
   "name": "python",
   "version": "3.12.3"
  }
 },
 "nbformat": 4,
 "nbformat_minor": 5
}
